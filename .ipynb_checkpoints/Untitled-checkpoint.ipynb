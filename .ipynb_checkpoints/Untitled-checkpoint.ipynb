{
 "cells": [
  {
   "cell_type": "code",
   "execution_count": 19,
   "metadata": {},
   "outputs": [
    {
     "ename": "ValueError",
     "evalue": "invalid literal for int() with base 10: 'Caio Haensel Feijó'",
     "output_type": "error",
     "traceback": [
      "\u001b[1;31m---------------------------------------------------------------------------\u001b[0m",
      "\u001b[1;31mValueError\u001b[0m                                Traceback (most recent call last)",
      "\u001b[1;32m<ipython-input-19-a974c112924c>\u001b[0m in \u001b[0;36m<module>\u001b[1;34m\u001b[0m\n\u001b[0;32m     36\u001b[0m         \u001b[0mprint\u001b[0m\u001b[1;33m(\u001b[0m\u001b[0mtotal_amount_check\u001b[0m\u001b[1;33m)\u001b[0m\u001b[1;33m\u001b[0m\u001b[1;33m\u001b[0m\u001b[0m\n\u001b[0;32m     37\u001b[0m \u001b[1;33m\u001b[0m\u001b[0m\n\u001b[1;32m---> 38\u001b[1;33m \u001b[0mcheck_values\u001b[0m\u001b[1;33m(\u001b[0m\u001b[0mnew_list\u001b[0m\u001b[1;33m)\u001b[0m\u001b[1;33m\u001b[0m\u001b[1;33m\u001b[0m\u001b[0m\n\u001b[0m\u001b[0;32m     39\u001b[0m \u001b[1;33m\u001b[0m\u001b[0m\n\u001b[0;32m     40\u001b[0m \u001b[1;33m\u001b[0m\u001b[0m\n",
      "\u001b[1;32m<ipython-input-19-a974c112924c>\u001b[0m in \u001b[0;36mcheck_values\u001b[1;34m(items_list)\u001b[0m\n\u001b[0;32m     33\u001b[0m     \u001b[1;32mfor\u001b[0m \u001b[0mi\u001b[0m \u001b[1;32min\u001b[0m \u001b[0mrange\u001b[0m\u001b[1;33m(\u001b[0m\u001b[0mlen\u001b[0m\u001b[1;33m(\u001b[0m\u001b[0mitems_list\u001b[0m\u001b[1;33m)\u001b[0m\u001b[1;33m)\u001b[0m\u001b[1;33m:\u001b[0m\u001b[1;33m\u001b[0m\u001b[1;33m\u001b[0m\u001b[0m\n\u001b[0;32m     34\u001b[0m         \u001b[0mcurrent_value\u001b[0m \u001b[1;33m=\u001b[0m \u001b[0mitems_list\u001b[0m\u001b[1;33m[\u001b[0m\u001b[0mi\u001b[0m\u001b[1;33m]\u001b[0m\u001b[1;33m\u001b[0m\u001b[1;33m\u001b[0m\u001b[0m\n\u001b[1;32m---> 35\u001b[1;33m         \u001b[0mtotal_amount_check\u001b[0m \u001b[1;33m=\u001b[0m \u001b[0mint\u001b[0m\u001b[1;33m(\u001b[0m\u001b[0mcurrent_value\u001b[0m\u001b[1;33m[\u001b[0m\u001b[1;36m0\u001b[0m\u001b[1;33m]\u001b[0m\u001b[1;33m)\u001b[0m \u001b[1;33m-\u001b[0m \u001b[0mint\u001b[0m\u001b[1;33m(\u001b[0m\u001b[0mcurrent_value\u001b[0m\u001b[1;33m[\u001b[0m\u001b[1;36m7\u001b[0m\u001b[1;33m]\u001b[0m\u001b[1;33m)\u001b[0m\u001b[1;33m\u001b[0m\u001b[1;33m\u001b[0m\u001b[0m\n\u001b[0m\u001b[0;32m     36\u001b[0m         \u001b[0mprint\u001b[0m\u001b[1;33m(\u001b[0m\u001b[0mtotal_amount_check\u001b[0m\u001b[1;33m)\u001b[0m\u001b[1;33m\u001b[0m\u001b[1;33m\u001b[0m\u001b[0m\n\u001b[0;32m     37\u001b[0m \u001b[1;33m\u001b[0m\u001b[0m\n",
      "\u001b[1;31mValueError\u001b[0m: invalid literal for int() with base 10: 'Caio Haensel Feijó'"
     ]
    }
   ],
   "source": [
    "import pandas as pd\n",
    "\n",
    "firm = pd.read_excel('empresa.xlsx')\n",
    "collector = pd.read_excel('cobrador.xlsx')\n",
    "collectorData = collector[['NOME PACIENTE', 'QTDE TOTAL ATENDIMENTOS', 'VALOR SESSÃO', 'TOTAL']]\n",
    "firmData= firm[['NOME PACIENTE', 'QTDE TOTAL ATENDIMENTOS','VALOR SESSÃO', 'TOTAL']]\n",
    "\n",
    "\n",
    "def dfs_to_list(df_empresa, df_cobrador):\n",
    "    names_list = df_empresa['NOME PACIENTE'].values.tolist()\n",
    "    list_empresa = df_empresa.values.tolist()\n",
    "    list_cobrador = df_cobrador.values.tolist()\n",
    "    return names_list, list_empresa, list_cobrador\n",
    "\n",
    "names_list, list_empresa, list_cobrador = dfs_to_list(firmData, collectorData)\n",
    "\n",
    "def get_items_list(nomes, empresa, cobrador):\n",
    "    new_list = list()\n",
    "    for x in range(len(nomes)):\n",
    "            \n",
    "            list_empresa_item_index = empresa.index(empresa[x])\n",
    "            list_cobrador_item_index = cobrador.index(cobrador[x])\n",
    "            empresa_item = empresa[list_empresa_item_index]\n",
    "            cobrador_item = cobrador[list_cobrador_item_index]\n",
    "\n",
    "            empresa_cobrador_item = empresa_item + cobrador_item\n",
    "            new_list.append(empresa_cobrador_item)\n",
    "    return new_list\n",
    "\n",
    "new_list = get_items_list(names_list, list_empresa, list_cobrador)\n",
    "\n",
    "def check_values(items_list):\n",
    "    for i in range(len(items_list)):\n",
    "        current_value = items_list[i]\n",
    "        total_amount_check = int(current_value[3]) - int(current_value[7])\n",
    "        print(total_amount_check)\n",
    "\n",
    "check_values(new_list)\n",
    "    \n",
    "    \n",
    "\n",
    "\n",
    "    \n",
    "    \n",
    "\n"
   ]
  },
  {
   "cell_type": "code",
   "execution_count": null,
   "metadata": {},
   "outputs": [],
   "source": []
  },
  {
   "cell_type": "code",
   "execution_count": null,
   "metadata": {},
   "outputs": [],
   "source": []
  },
  {
   "cell_type": "code",
   "execution_count": null,
   "metadata": {},
   "outputs": [],
   "source": []
  }
 ],
 "metadata": {
  "kernelspec": {
   "display_name": "Python 3",
   "language": "python",
   "name": "python3"
  },
  "language_info": {
   "codemirror_mode": {
    "name": "ipython",
    "version": 3
   },
   "file_extension": ".py",
   "mimetype": "text/x-python",
   "name": "python",
   "nbconvert_exporter": "python",
   "pygments_lexer": "ipython3",
   "version": "3.8.5"
  }
 },
 "nbformat": 4,
 "nbformat_minor": 4
}
