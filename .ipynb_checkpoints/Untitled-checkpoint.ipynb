{
 "cells": [
  {
   "cell_type": "code",
   "execution_count": 31,
   "metadata": {},
   "outputs": [
    {
     "name": "stdout",
     "output_type": "stream",
     "text": [
      "['Caio Haensel Feijó', 6, 48, 288, 'Caio Haensel Feijó', 7, 50, 350]\n",
      "['Cid Roberto Pereira Coelho', 13, 48, 624, 'Cid Roberto Pereira Coelho', 13, 48, 624]\n",
      "['Edna da Conceição Costa C. Escanilha', 8, 59, 472, 'Edna da Conceição Costa C. Escanilha', 8, 59, 472]\n",
      "['Marly de Veiga Cabral Campos', 11, 48, 528, 'Marly de Veiga Cabral Campos', 15, 48, 720]\n",
      "                       NOME DO PACIENTE  DIF-PREÇO TOTAL  DIF-ATENDIMENTOS  \\\n",
      "0                    Caio Haensel Feijó               62                 1   \n",
      "1            Cid Roberto Pereira Coelho                0                 0   \n",
      "2  Edna da Conceição Costa C. Escanilha                0                 0   \n",
      "3          Marly de Veiga Cabral Campos              192                 4   \n",
      "\n",
      "   DIF-VALOR ATEND  \n",
      "0                2  \n",
      "1                0  \n",
      "2                0  \n",
      "3                0  \n"
     ]
    }
   ],
   "source": [
    "import pandas as pd\n",
    "\n",
    "firm = pd.read_excel('empresa.xlsx')\n",
    "collector = pd.read_excel('cobrador.xlsx')\n",
    "collectorData = collector[['NOME PACIENTE', 'QTDE TOTAL ATENDIMENTOS', 'VALOR SESSÃO', 'TOTAL']]\n",
    "firmData= firm[['NOME PACIENTE', 'QTDE TOTAL ATENDIMENTOS','VALOR SESSÃO', 'TOTAL']]\n",
    "\n",
    "\n",
    "def dfs_to_list(df_empresa, df_cobrador):\n",
    "    names_list = df_empresa['NOME PACIENTE'].values.tolist()\n",
    "    list_empresa = df_empresa.values.tolist()\n",
    "    list_cobrador = df_cobrador.values.tolist()\n",
    "    return names_list, list_empresa, list_cobrador\n",
    "\n",
    "names_list, list_empresa, list_cobrador = dfs_to_list(firmData, collectorData)\n",
    "\n",
    "def get_items_list(nomes, empresa, cobrador):\n",
    "    new_list = list()\n",
    "    for x in range(len(nomes)):\n",
    "            \n",
    "            list_empresa_item_index = empresa.index(empresa[x])\n",
    "            list_cobrador_item_index = cobrador.index(cobrador[x])\n",
    "            empresa_item = empresa[list_empresa_item_index]\n",
    "            cobrador_item = cobrador[list_cobrador_item_index]\n",
    "\n",
    "            empresa_cobrador_item = empresa_item + cobrador_item\n",
    "            new_list.append(empresa_cobrador_item)\n",
    "    return new_list\n",
    "\n",
    "new_list = get_items_list(names_list, list_empresa, list_cobrador)\n",
    "\n",
    "def check_values(items_list):\n",
    "    checked_list = list()\n",
    "    for i in range(len(items_list)):\n",
    "        current_value = items_list[i]\n",
    "        total_amount_check = int(current_value[7]) - int(current_value[3])\n",
    "        total_calls_check = int(current_value[5]) - int(current_value[1])\n",
    "        total_calls_sessions_check = int(current_value[6]) - int(current_value[2])\n",
    " \n",
    "\n",
    "        checked_item = [current_value[0], total_amount_check, total_calls_check, total_calls_sessions_check]\n",
    "        checked_list.append(checked_item)\n",
    "    return checked_list\n",
    "\n",
    "\n",
    "    \n",
    "checked_list = check_values(new_list)\n",
    "\n",
    "def checked_list_to_df(checked):\n",
    "    new_df = pd.DataFrame(checked, columns=['NOME DO PACIENTE', 'DIF-PREÇO TOTAL', 'DIF-ATENDIMENTOS', 'DIF-VALOR ATEND'])\n",
    "    return new_df\n",
    "\n",
    "new_df = checked_list_to_df(checked_list)\n",
    "print(new_df)\n",
    "    \n",
    "    \n",
    "\n",
    "\n",
    "    \n",
    "    \n",
    "\n"
   ]
  },
  {
   "cell_type": "code",
   "execution_count": null,
   "metadata": {},
   "outputs": [],
   "source": []
  },
  {
   "cell_type": "code",
   "execution_count": null,
   "metadata": {},
   "outputs": [],
   "source": []
  },
  {
   "cell_type": "code",
   "execution_count": null,
   "metadata": {},
   "outputs": [],
   "source": []
  }
 ],
 "metadata": {
  "kernelspec": {
   "display_name": "Python 3",
   "language": "python",
   "name": "python3"
  },
  "language_info": {
   "codemirror_mode": {
    "name": "ipython",
    "version": 3
   },
   "file_extension": ".py",
   "mimetype": "text/x-python",
   "name": "python",
   "nbconvert_exporter": "python",
   "pygments_lexer": "ipython3",
   "version": "3.8.5"
  }
 },
 "nbformat": 4,
 "nbformat_minor": 4
}
