{
 "cells": [
  {
   "cell_type": "code",
   "execution_count": 51,
   "metadata": {},
   "outputs": [
    {
     "name": "stdout",
     "output_type": "stream",
     "text": [
      "                          NOME PACIENTE  QTDE TOTAL ATENDIMENTOS  \\\n",
      "0                    Caio Haensel Feijó                        6   \n",
      "1            Cid Roberto Pereira Coelho                       13   \n",
      "2  Edna da Conceição Costa C. Escanilha                        8   \n",
      "3          Marly de Veiga Cabral Campos                       11   \n",
      "0                    Caio Haensel Feijó                        7   \n",
      "1            Cid Roberto Pereira Coelho                       13   \n",
      "2  Edna da Conceição Costa C. Escanilha                        8   \n",
      "3          Marly de Veiga Cabral Campos                       15   \n",
      "\n",
      "   VALOR SESSÃO  TOTAL  \n",
      "0           NaN    NaN  \n",
      "1           NaN    NaN  \n",
      "2           NaN    NaN  \n",
      "3           NaN    NaN  \n",
      "0          50.0  350.0  \n",
      "1          48.0  624.0  \n",
      "2          59.0  472.0  \n",
      "3          48.0  720.0  \n"
     ]
    }
   ],
   "source": [
    "import pandas as pd\n",
    "\n",
    "firm = pd.read_excel('empresa.xlsx')\n",
    "collector = pd.read_excel('cobrador.xlsx')\n",
    "collectorData = collector[['NOME PACIENTE', 'QTDE TOTAL ATENDIMENTOS', 'VALOR SESSÃO', 'TOTAL']]\n",
    "firmData= firm[['NOME PACIENTE', 'QTDE TOTAL ATENDIMENTOS']]\n",
    "\n",
    "def groupData(data1, data2):\n",
    "    common_clients = set(data1['NOME PACIENTE']) & set(data2['NOME PACIENTE'])\n",
    "    data1_common = data1[data1['NOME PACIENTE'].isin(common_clients)]\n",
    "    data2_common = data2[data2['NOME PACIENTE'].isin(common_clients)]\n",
    "    new_df = pd.concat([data1_common, data2_common])\n",
    "    new_df_2 = pd.DataFrame(new_df)\n",
    "    print(new_df_2)\n",
    " \n",
    " \n",
    "\n",
    "    \n",
    "groupData(firmData, collectorData)\n",
    "\n",
    "\n"
   ]
  },
  {
   "cell_type": "code",
   "execution_count": null,
   "metadata": {},
   "outputs": [],
   "source": []
  },
  {
   "cell_type": "code",
   "execution_count": null,
   "metadata": {},
   "outputs": [],
   "source": []
  },
  {
   "cell_type": "code",
   "execution_count": null,
   "metadata": {},
   "outputs": [],
   "source": []
  }
 ],
 "metadata": {
  "kernelspec": {
   "display_name": "Python 3",
   "language": "python",
   "name": "python3"
  },
  "language_info": {
   "codemirror_mode": {
    "name": "ipython",
    "version": 3
   },
   "file_extension": ".py",
   "mimetype": "text/x-python",
   "name": "python",
   "nbconvert_exporter": "python",
   "pygments_lexer": "ipython3",
   "version": "3.8.5"
  }
 },
 "nbformat": 4,
 "nbformat_minor": 4
}
